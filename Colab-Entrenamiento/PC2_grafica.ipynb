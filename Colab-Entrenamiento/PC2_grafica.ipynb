{
  "nbformat": 4,
  "nbformat_minor": 0,
  "metadata": {
    "colab": {
      "private_outputs": true,
      "provenance": [],
      "gpuType": "T4"
    },
    "kernelspec": {
      "name": "python3",
      "display_name": "Python 3"
    },
    "language_info": {
      "name": "python"
    },
    "accelerator": "GPU"
  },
  "cells": [
    {
      "cell_type": "code",
      "source": [
        "#!pip install q keras==2.2.4\n",
        "#!pip install tensorflow==1.14.0\n",
        "!pip install tensorflow==2.8.0\n",
        "#!pip uninstall tensorflow"
      ],
      "metadata": {
        "id": "VLZYdRYszoHV"
      },
      "execution_count": null,
      "outputs": []
    },
    {
      "cell_type": "code",
      "metadata": {
        "id": "M4tg9AulnhRa"
      },
      "source": [
        "import numpy as np\n",
        "import matplotlib.pyplot as plt\n",
        "from skimage.transform import resize\n",
        "from sklearn.model_selection import train_test_split\n",
        "from tensorflow import keras"
      ],
      "execution_count": null,
      "outputs": []
    },
    {
      "cell_type": "code",
      "metadata": {
        "id": "f2pbBqnSLYc8"
      },
      "source": [
        "!nvidia-smi"
      ],
      "execution_count": null,
      "outputs": []
    },
    {
      "cell_type": "code",
      "source": [
        "!gdown --id 154RWNSZndw3BGTtVNXsOyzQN0LIOPtuA\n",
        "!gdown --id 1VUh3-dczbssimcD0FwX731eIgvxqSB9g"
      ],
      "metadata": {
        "id": "GxeIuOWnfLdJ"
      },
      "execution_count": null,
      "outputs": []
    },
    {
      "cell_type": "markdown",
      "metadata": {
        "id": "L3cG-u68k4NB"
      },
      "source": [
        "### Preparar datos"
      ]
    },
    {
      "cell_type": "code",
      "metadata": {
        "id": "DOzikEiN9niE"
      },
      "source": [
        "X_raw = np.load('/content/X.npy')\n",
        "X_raw = X_raw/255.\n",
        "y = np.load('/content/y.npy')\n",
        "X = []\n",
        "size = (28,28)\n",
        "for x in X_raw:\n",
        "    X.append(resize(x, size))\n",
        "X = np.array(X)"
      ],
      "execution_count": null,
      "outputs": []
    },
    {
      "cell_type": "code",
      "metadata": {
        "id": "Us59s3Blpi_y"
      },
      "source": [
        "plt.figure()\n",
        "plt.title(\"Cantidad de muestras x dígito\")\n",
        "plt.ylabel(\"Cantidad\")\n",
        "plt.xlabel(\"Dígito\")\n",
        "plt.hist(y, bins=10)\n",
        "plt.plot()"
      ],
      "execution_count": null,
      "outputs": []
    },
    {
      "cell_type": "markdown",
      "metadata": {
        "id": "VnygyOx_kVgV"
      },
      "source": [
        "### Visualizando el `dataset`"
      ]
    },
    {
      "cell_type": "code",
      "metadata": {
        "id": "XPuhkifOjMas"
      },
      "source": [
        "plt.figure(figsize=(20,10))\n",
        "for i in range(25):\n",
        "    plt.subplot(5,5, i+1)\n",
        "    idx = np.random.choice(X.shape[0], 1)[0]\n",
        "    plt.title('id:{} val:{}'.format(idx, y[idx] ))\n",
        "    plt.imshow(-X[idx], cmap='gray')\n",
        "    plt.axis('off')\n",
        "plt.show()"
      ],
      "execution_count": null,
      "outputs": []
    },
    {
      "cell_type": "markdown",
      "metadata": {
        "id": "ADHOOaWik7BQ"
      },
      "source": [
        "### Split de train-test"
      ]
    },
    {
      "cell_type": "code",
      "source": [
        "X.shape"
      ],
      "metadata": {
        "id": "VF2_YHPk24kz"
      },
      "execution_count": null,
      "outputs": []
    },
    {
      "cell_type": "code",
      "source": [
        "y.shape"
      ],
      "metadata": {
        "id": "cxhkaG56265Q"
      },
      "execution_count": null,
      "outputs": []
    },
    {
      "cell_type": "code",
      "source": [
        "#cambiar a numeros\n",
        "y_float = np.where(y == 'pi', 0,\n",
        "                   np.where(y == 'beta', 1,\n",
        "                            np.where(y == 'gamma', 2,\n",
        "                                     np.where(y == 'delta', 3, 4))))"
      ],
      "metadata": {
        "id": "_VOnj_-PriAN"
      },
      "execution_count": null,
      "outputs": []
    },
    {
      "cell_type": "code",
      "metadata": {
        "id": "npamkfojIxjF"
      },
      "source": [
        "X_train, X_test, y_train, y_test = train_test_split(X, y_float, test_size=0.20, random_state=42, stratify=y)"
      ],
      "execution_count": null,
      "outputs": []
    },
    {
      "cell_type": "code",
      "metadata": {
        "id": "naSOHz06XiAL"
      },
      "source": [
        "plt.figure()\n",
        "plt.title(\"Cantidad de muestras x dígito (train)\")\n",
        "plt.ylabel(\"Cantidad\")\n",
        "plt.xlabel(\"Dígito\")\n",
        "plt.hist(y_train, bins=10)\n",
        "plt.plot()"
      ],
      "execution_count": null,
      "outputs": []
    },
    {
      "cell_type": "code",
      "metadata": {
        "id": "ze4tCjwWXp6u"
      },
      "source": [
        "plt.figure()\n",
        "plt.title(\"Cantidad de muestras x dígito (test)\")\n",
        "plt.ylabel(\"Cantidad\")\n",
        "plt.xlabel(\"Dígito\")\n",
        "plt.hist(y_test, bins=10)\n",
        "plt.plot()"
      ],
      "execution_count": null,
      "outputs": []
    },
    {
      "cell_type": "code",
      "metadata": {
        "id": "YICha4VOORNe"
      },
      "source": [
        "# Ajustamos las dimensiones de las imágenes\n",
        "if X_train.ndim == 3:\n",
        "    X_train = X_train[...,None]\n",
        "    X_test = X_test[..., None]\n",
        "    print(X_train.shape, X_test.shape)"
      ],
      "execution_count": null,
      "outputs": []
    },
    {
      "cell_type": "markdown",
      "metadata": {
        "id": "QNFock6RrosL"
      },
      "source": [
        "## Definimos un modelo"
      ]
    },
    {
      "cell_type": "code",
      "metadata": {
        "id": "pfe9qQgProsM"
      },
      "source": [
        "from tensorflow.python.keras.models import Sequential\n",
        "from tensorflow.python.keras.layers import Dense, Conv2D, MaxPool2D, Flatten\n",
        "from tensorflow.keras.optimizers import *\n",
        "\n",
        "bs = 16\n",
        "lr = 0.0005\n",
        "\n",
        "\n",
        "model = Sequential([Conv2D(32, 3, activation='relu', input_shape=(*size,1)),\n",
        "                    MaxPool2D(),\n",
        "                    Conv2D(64, 3, activation='relu', padding ='same'),\n",
        "                    MaxPool2D(),\n",
        "                    Conv2D(128, 3, activation='relu', padding ='same'),\n",
        "                    MaxPool2D(),\n",
        "                    Flatten(),\n",
        "                    Dense(128, activation='relu'),\n",
        "                    Dense( 5, activation='softmax')])\n",
        "\n",
        "#optimizer1='SGD'\n",
        "model.compile(optimizer= \"SGD\", loss='sparse_categorical_crossentropy' , metrics=['accuracy'])\n",
        "\n",
        "model.summary()"
      ],
      "execution_count": null,
      "outputs": []
    },
    {
      "cell_type": "markdown",
      "metadata": {
        "id": "ViSNqBdCrosX"
      },
      "source": [
        "## Entrenamiento"
      ]
    },
    {
      "cell_type": "code",
      "metadata": {
        "scrolled": true,
        "id": "CLPujN72rosZ"
      },
      "source": [
        "log = model.fit(X_train, y_train, batch_size=bs, epochs=400, validation_data=(X_test, y_test))"
      ],
      "execution_count": null,
      "outputs": []
    },
    {
      "cell_type": "code",
      "metadata": {
        "id": "3NVXu4Njrosb"
      },
      "source": [
        "def show_results(model, log):\n",
        "    loss, acc = model.evaluate(X_test, y_test, batch_size=512, verbose=False)\n",
        "    print(f'Loss     = {loss:.4f}')\n",
        "    print(f'Accuracy = {acc:.4f}')\n",
        "    val_loss = log.history['val_loss']\n",
        "    val_acc = log.history['val_accuracy'] # val_acc -> val_accuracy\n",
        "    fig, axes = plt.subplots(1, 2, figsize=(14,4))\n",
        "    ax1, ax2 = axes\n",
        "    ax1.plot(log.history['loss'], label='train')\n",
        "    ax1.plot(val_loss, label='test')\n",
        "    ax1.set_xlabel('epoch'); ax1.set_ylabel('loss')\n",
        "    ax2.plot(log.history['accuracy'], label='train')  #acc -> accuracy\n",
        "    ax2.plot(val_acc, label='test')\n",
        "    ax2.set_xlabel('epoch'); ax2.set_ylabel('acc')\n",
        "    for ax in axes: ax.legend()"
      ],
      "execution_count": null,
      "outputs": []
    },
    {
      "cell_type": "code",
      "metadata": {
        "id": "u2gq4oP4rose"
      },
      "source": [
        "show_results(model, log)"
      ],
      "execution_count": null,
      "outputs": []
    },
    {
      "cell_type": "markdown",
      "metadata": {
        "id": "qNgZtFfylqyS"
      },
      "source": [
        "## Probando el modelo"
      ]
    },
    {
      "cell_type": "code",
      "metadata": {
        "id": "68Sohfl7g5BT"
      },
      "source": [
        "idx = np.random.choice(X_test.shape[0], 1)[0]\n",
        "im = X_test[idx]\n",
        "label = y_test[idx]\n",
        "plt.title('(test) id:{} val:{}'.format(idx, label ))\n",
        "plt.axis('off')\n",
        "plt.imshow(-im[:,:,0], cmap='gray')\n",
        "plt.show()"
      ],
      "execution_count": null,
      "outputs": []
    },
    {
      "cell_type": "markdown",
      "metadata": {
        "id": "v3W6WqMvmRP5"
      },
      "source": [
        "## Usando el modelo entrenado"
      ]
    },
    {
      "cell_type": "code",
      "metadata": {
        "id": "arNeSd_gmB2Y"
      },
      "source": [
        "salida = model.predict(im[None,:,:,:])[0]\n",
        "salida"
      ],
      "execution_count": null,
      "outputs": []
    },
    {
      "cell_type": "code",
      "metadata": {
        "id": "kxGGKcpIm7Ch"
      },
      "source": [
        "plt.figure()\n",
        "plt.title(\"Predicción: {} Label: {}\".format(salida.argmax(), label ))\n",
        "plt.ylabel(\"Probabilidad\")\n",
        "plt.xlabel(\"Dígito\")\n",
        "plt.ylim([0,1])\n",
        "plt.bar(np.arange(5), salida)\n",
        "plt.plot()"
      ],
      "execution_count": null,
      "outputs": []
    },
    {
      "cell_type": "code",
      "metadata": {
        "id": "0yQxdb_8oFwZ"
      },
      "source": [
        "#Descargamos el modelo entrenado.\n",
        "model.save('modelo_entrenado.h5')\n",
        "from google.colab import files\n",
        "files.download('modelo_entrenado.h5')\n"
      ],
      "execution_count": null,
      "outputs": []
    },
    {
      "cell_type": "code",
      "source": [
        "from keras.models import load_model\n",
        "\n",
        "# Carga el modelo desde el archivo .h5\n",
        "modelo_entrenado = load_model('/content/modelo_entrenado.h5')\n",
        "\n",
        "# Muestra un resumen del modelo\n",
        "modelo_entrenado.summary()"
      ],
      "metadata": {
        "id": "I35uxPMe0UOG"
      },
      "execution_count": null,
      "outputs": []
    }
  ]
}